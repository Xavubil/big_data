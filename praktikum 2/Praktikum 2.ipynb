{
 "cells": [
  {
   "cell_type": "code",
   "execution_count": 1,
   "metadata": {},
   "outputs": [],
   "source": [
    "import math as m\n",
    "import matplotlib.pyplot as plt\n",
    "import numpy as np\n",
    "import pandas as pd\n",
    "import datetime"
   ]
  },
  {
   "cell_type": "code",
   "execution_count": 2,
   "metadata": {},
   "outputs": [],
   "source": [
    "file = open('./adsbprak2.txt', 'r')\n",
    "#file = open('./adsbprak.txt', 'r')\n",
    "null_hours = []\n",
    "null_minutes = []\n",
    "binary_obj = []\n",
    "planes = []      "
   ]
  },
  {
   "cell_type": "code",
   "execution_count": 12,
   "metadata": {},
   "outputs": [],
   "source": [
    "for line in file:\n",
    "    current_line = line.split(\",\")\n",
    "    date = current_line[1] + ' ' + current_line[2]\n",
    "    date = datetime.datetime.strptime(date, '%Y/%m/%d %H:%M:%S.%f')\n",
    "    #null_hours = date.replace(hour=0, minute=0, second=0, microsecond=0)\n",
    "    null_minutes = date.replace(minute=0, second=0, microsecond=0)\n",
    "    binary_obj.append((null_hours, current_line[0]))\n",
    "    #binary_obj.append((null_minutes, current_line[0]))\n",
    "    \n",
    "binary_obj.sort()\n"
   ]
  },
  {
   "cell_type": "code",
   "execution_count": 14,
   "metadata": {},
   "outputs": [
    {
     "data": {
      "image/png": "[encoded data removed]",
      "text/plain": [
       "<Figure size 432x288 with 1 Axes>"
      ]
     },
     "metadata": {
      "needs_background": "light"
     },
     "output_type": "display_data"
    }
   ],
   "source": [
    "    Hours = []\n",
    "    Count = []\n",
    "    lastHour = 0\n",
    "    lastIndex = 0\n",
    "    for entry in binary_obj:\n",
    "        if lastHour != entry[1]:\n",
    "            #print(lastHour, lastIndex, '\\n Eintrag:', entry)\n",
    "            lastHour = entry[0]\n",
    "            lastIndex = lastIndex+1\n",
    "            Hours.append(lastHour)\n",
    "            Count.append(lastIndex)\n",
    "            #print(Count)\n",
    "        else:\n",
    "            Count[lastIndex] = Count[lastIndex]+1\n",
    "\n",
    "    fig, ax = plt.subplots()\n",
    "    ax.plot(Hours, Count)\n",
    "    plt.show()"
   ]
  }
 ],
 "metadata": {
  "kernelspec": {
   "display_name": "Python 3",
   "language": "python",
   "name": "python3"
  },
  "language_info": {
   "codemirror_mode": {
    "name": "ipython",
    "version": 3
   },
   "file_extension": ".py",
   "mimetype": "text/x-python",
   "name": "python",
   "nbconvert_exporter": "python",
   "pygments_lexer": "ipython3",
   "version": "3.7.4"
  }
 },
 "nbformat": 4,
 "nbformat_minor": 2
}
